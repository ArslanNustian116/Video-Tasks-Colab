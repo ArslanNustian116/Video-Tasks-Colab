{
  "nbformat": 4,
  "nbformat_minor": 0,
  "metadata": {
    "colab": {
      "provenance": [],
      "authorship_tag": "ABX9TyMGFEBz9EAwY/F/x9Va0uWl",
      "include_colab_link": true
    },
    "kernelspec": {
      "name": "python3",
      "display_name": "Python 3"
    },
    "language_info": {
      "name": "python"
    }
  },
  "cells": [
    {
      "cell_type": "markdown",
      "metadata": {
        "id": "view-in-github",
        "colab_type": "text"
      },
      "source": [
        "<a href=\"https://colab.research.google.com/github/ArslanNustian116/Video-Tasks-Colab/blob/main/Change_Copy_of_Text.ipynb\" target=\"_parent\"><img src=\"https://colab.research.google.com/assets/colab-badge.svg\" alt=\"Open In Colab\"/></a>"
      ]
    },
    {
      "cell_type": "code",
      "execution_count": null,
      "metadata": {
        "colab": {
          "base_uri": "https://localhost:8080/"
        },
        "id": "EdgnV3E6gzZM",
        "outputId": "88c2ffcc-7f77-40f7-e044-7fcd57fd4bdf"
      },
      "outputs": [
        {
          "output_type": "stream",
          "name": "stdout",
          "text": [
            "Mounted at /content/drive\n",
            "Renamed: Copy of Cricket 2024 - Zimbabwe vs India - 5th T20I Highlights 1080p -ash.mp4 -> cricket 2024 - zimbabwe vs india - 5th t20i highlights 1080p -ash.mp4\n",
            "Renamed: Copy of Cricket 2024 - Zimbabwe vs India - 2nd T20i Highlights 1080p -ash.mp4 -> cricket 2024 - zimbabwe vs india - 2nd t20i highlights 1080p -ash.mp4\n",
            "Renamed: Copy of Cricket 2024 - Zimbabwe vs India - 1st T20i Highlights 1080p -ash.mp4 -> cricket 2024 - zimbabwe vs india - 1st t20i highlights 1080p -ash.mp4\n",
            "Renamed: Copy of Cricket 2024 - England v West Indies - 1st Test Review 1080p H.264-bill.mkv -> cricket 2024 - england v west indies - 1st test review 1080p h.264-bill.mkv\n",
            "Renamed: Copy of Cricket 2024 - Zimbabwe vs India - 3rd T20I Highlights 1080p -ash.mp4 -> cricket 2024 - zimbabwe vs india - 3rd t20i highlights 1080p -ash.mp4\n",
            "Renamed: Copy of Cricket 2024 - Zimbabwe vs India - 4th T20I Highlights 1080p -ash.mp4 -> cricket 2024 - zimbabwe vs india - 4th t20i highlights 1080p -ash.mp4\n",
            "Renaming completed.\n"
          ]
        }
      ],
      "source": [
        "# Step 1: Mount Google Drive\n",
        "from google.colab import drive\n",
        "drive.mount('/content/drive')\n",
        "\n",
        "import os\n",
        "\n",
        "# Step 2: Specify the folder path\n",
        "folder_path = '/content/drive/My Drive/1'\n",
        "\n",
        "# Step 3: Iterate over the files in the folder and rename them\n",
        "for filename in os.listdir(folder_path):\n",
        "    if \"copy of\" in filename.lower():\n",
        "        new_filename = filename.lower().replace(\"copy of\", \"\").strip()\n",
        "        os.rename(os.path.join(folder_path, filename), os.path.join(folder_path, new_filename))\n",
        "        print(f'Renamed: {filename} -> {new_filename}')\n",
        "\n",
        "print(\"Renaming completed.\")\n"
      ]
    }
  ]
}