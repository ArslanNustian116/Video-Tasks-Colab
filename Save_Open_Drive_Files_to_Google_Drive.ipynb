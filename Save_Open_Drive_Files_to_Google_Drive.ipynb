{
  "nbformat": 4,
  "nbformat_minor": 0,
  "metadata": {
    "colab": {
      "provenance": [],
      "authorship_tag": "ABX9TyN1qZa5bXOWBzJi42QkqpTw",
      "include_colab_link": true
    },
    "kernelspec": {
      "name": "python3",
      "display_name": "Python 3"
    },
    "language_info": {
      "name": "python"
    }
  },
  "cells": [
    {
      "cell_type": "markdown",
      "metadata": {
        "id": "view-in-github",
        "colab_type": "text"
      },
      "source": [
        "<a href=\"https://colab.research.google.com/github/ArslanNustian116/Video-Tasks-Colab/blob/main/Save_Open_Drive_Files_to_Google_Drive.ipynb\" target=\"_parent\"><img src=\"https://colab.research.google.com/assets/colab-badge.svg\" alt=\"Open In Colab\"/></a>"
      ]
    },
    {
      "cell_type": "markdown",
      "source": [
        "# Save Open Drive Files to Google Drive"
      ],
      "metadata": {
        "id": "MJoTy0beKrxD"
      }
    },
    {
      "cell_type": "code",
      "execution_count": 2,
      "metadata": {
        "colab": {
          "base_uri": "https://localhost:8080/"
        },
        "id": "Vs4WdfxD6oWI",
        "outputId": "44a0f225-41cd-4006-a601-18539238c268"
      },
      "outputs": [
        {
          "output_type": "stream",
          "name": "stdout",
          "text": [
            "Drive already mounted at /content/drive; to attempt to forcibly remount, call drive.mount(\"/content/drive\", force_remount=True).\n",
            "File downloaded successfully and saved to: /content/drive/My Drive/Downloaded_Files/1983-84_WI_in_Aus_1st_and_2nd_Tests.mp4\n"
          ]
        }
      ],
      "source": [
        "# Step 1: Mount Google Drive\n",
        "from google.colab import drive\n",
        "drive.mount('/content/drive')\n",
        "\n",
        "# Step 2: Specify the File URL and Save Path\n",
        "file_url = \"https://od.lk/d/Ml8yMjUyMTI1ODBf/1983-84%20WI%20in%20Aus%201st%20and%202nd%20Tests.mp4\"  # OpenDrive file URL\n",
        "save_path = \"/content/drive/My Drive/Downloaded_Files/1983-84_WI_in_Aus_1st_and_2nd_Tests.mp4\"  # Specify the path in Google Drive\n",
        "\n",
        "# Step 3: Download the File\n",
        "import requests\n",
        "\n",
        "# Create the save directory if it doesn't exist\n",
        "import os\n",
        "os.makedirs(os.path.dirname(save_path), exist_ok=True)\n",
        "\n",
        "# Download the file from the URL\n",
        "response = requests.get(file_url, stream=True)\n",
        "if response.status_code == 200:\n",
        "    with open(save_path, 'wb') as file:\n",
        "        for chunk in response.iter_content(chunk_size=1024):\n",
        "            if chunk:\n",
        "                file.write(chunk)\n",
        "    print(f\"File downloaded successfully and saved to: {save_path}\")\n",
        "else:\n",
        "    print(f\"Failed to download file. Status code: {response.status_code}\")\n"
      ]
    }
  ]
}