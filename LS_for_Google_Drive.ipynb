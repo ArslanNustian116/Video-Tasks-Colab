{
  "nbformat": 4,
  "nbformat_minor": 0,
  "metadata": {
    "colab": {
      "provenance": [],
      "authorship_tag": "ABX9TyNQYGCrECPGB3gNtKDple7W",
      "include_colab_link": true
    },
    "kernelspec": {
      "name": "python3",
      "display_name": "Python 3"
    },
    "language_info": {
      "name": "python"
    }
  },
  "cells": [
    {
      "cell_type": "markdown",
      "metadata": {
        "id": "view-in-github",
        "colab_type": "text"
      },
      "source": [
        "<a href=\"https://colab.research.google.com/github/ArslanNustian116/Video-Tasks-Colab/blob/main/LS_for_Google_Drive.ipynb\" target=\"_parent\"><img src=\"https://colab.research.google.com/assets/colab-badge.svg\" alt=\"Open In Colab\"/></a>"
      ]
    },
    {
      "cell_type": "code",
      "execution_count": null,
      "metadata": {
        "colab": {
          "base_uri": "https://localhost:8080/"
        },
        "id": "C_AqLd3uCpfp",
        "outputId": "5e65b991-2eb5-41c4-ecfd-7c76c8b86579"
      },
      "outputs": [
        {
          "output_type": "stream",
          "name": "stdout",
          "text": [
            "Mounted at /content/drive\n",
            "File list saved to /content/drive/My Drive/arsalanmajid116.txt\n"
          ]
        }
      ],
      "source": [
        "from google.colab import drive\n",
        "import os\n",
        "\n",
        "# Step 1: Mount Google Drive\n",
        "drive.mount('/content/drive')\n",
        "\n",
        "# Step 2: Specify the path to the Google Drive root directory\n",
        "drive_root_path = '/content/drive/My Drive'\n",
        "\n",
        "# Step 3: List all files in the entire Google Drive\n",
        "file_list = []\n",
        "for root, dirs, files in os.walk(drive_root_path):\n",
        "    for file in files:\n",
        "        file_list.append(os.path.join(root, file))\n",
        "\n",
        "# Step 4: Save the list to a text file\n",
        "output_file_path = '/content/drive/My Drive/arsalanmajid116.txt'\n",
        "with open(output_file_path, 'w') as file:\n",
        "    for line in file_list:\n",
        "        file.write(line + '\\n')\n",
        "\n",
        "print(f'File list saved to {output_file_path}')"
      ]
    }
  ]
}