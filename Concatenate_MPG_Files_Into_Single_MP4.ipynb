{
  "cells": [
    {
      "cell_type": "markdown",
      "metadata": {
        "id": "view-in-github",
        "colab_type": "text"
      },
      "source": [
        "<a href=\"https://colab.research.google.com/github/ArslanNustian116/Video-Tasks-Colab/blob/main/Concatenate_MPG_Files_Into_Single_MP4.ipynb\" target=\"_parent\"><img src=\"https://colab.research.google.com/assets/colab-badge.svg\" alt=\"Open In Colab\"/></a>"
      ]
    },
    {
      "cell_type": "markdown",
      "metadata": {
        "id": "2jNQukey8YJx"
      },
      "source": [
        "**This Section Converts a Set of MPG files and concatenates them into a single mp4.**"
      ]
    },
    {
      "cell_type": "code",
      "execution_count": null,
      "metadata": {
        "colab": {
          "base_uri": "https://localhost:8080/"
        },
        "id": "Qb78y7yms5dE",
        "outputId": "b08bdac6-44aa-43d6-b745-c1a5cf7499ce"
      },
      "outputs": [
        {
          "name": "stdout",
          "output_type": "stream",
          "text": [
            "Mounted at /content/drive\n",
            "Reading package lists... Done\n",
            "Building dependency tree... Done\n",
            "Reading state information... Done\n",
            "ffmpeg is already the newest version (7:4.4.2-0ubuntu0.22.04.1).\n",
            "0 upgraded, 0 newly installed, 0 to remove and 19 not upgraded.\n"
          ]
        },
        {
          "data": {
            "text/plain": [
              "0"
            ]
          },
          "execution_count": 1,
          "metadata": {},
          "output_type": "execute_result"
        }
      ],
      "source": [
        "\n",
        "from google.colab import drive\n",
        "\n",
        "# Mount Google Drive\n",
        "drive.mount('/content/drive')\n",
        "\n",
        "!apt-get install ffmpeg\n",
        "\n",
        "import os\n",
        "\n",
        "# Input directory containing mpg files\n",
        "input_folder = \"/content/drive/My Drive/1\"\n",
        "\n",
        "# Output file path for the joined mp4 file\n",
        "output_file = \"/content/drive/My Drive/AusPakAdelaide96.mp4\"\n",
        "\n",
        "# Change directory to the input folder\n",
        "os.chdir(input_folder)\n",
        "\n",
        "# List MPG files in the directory\n",
        "mpg_files = [f for f in os.listdir() if f.endswith(\".mpg\")]\n",
        "\n",
        "# Create a list of input files for ffmpeg\n",
        "input_files = \"|\".join(mpg_files)\n",
        "\n",
        "# Use ffmpeg to concatenate the mpg files into a single mp4 file with progress monitoring\n",
        "cmd = f'ffmpeg -i \"concat:{input_files}\" -c:v copy -c:a aac -strict experimental \"{output_file}\" -progress -'\n",
        "os.system(cmd)\n"
      ]
    },
    {
      "cell_type": "code",
      "execution_count": null,
      "metadata": {
        "colab": {
          "background_save": true,
          "base_uri": "https://localhost:8080/"
        },
        "id": "orNM5D1wfpH4",
        "outputId": "4d658d32-a909-4685-bfba-3f44ac6cb921"
      },
      "outputs": [
        {
          "name": "stdout",
          "output_type": "stream",
          "text": [
            "Mounted at /content/drive\n",
            "ffmpeg version 4.4.2-0ubuntu0.22.04.1 Copyright (c) 2000-2021 the FFmpeg developers\n",
            "  built with gcc 11 (Ubuntu 11.2.0-19ubuntu1)\n",
            "  configuration: --prefix=/usr --extra-version=0ubuntu0.22.04.1 --toolchain=hardened --libdir=/usr/lib/x86_64-linux-gnu --incdir=/usr/include/x86_64-linux-gnu --arch=amd64 --enable-gpl --disable-stripping --enable-gnutls --enable-ladspa --enable-libaom --enable-libass --enable-libbluray --enable-libbs2b --enable-libcaca --enable-libcdio --enable-libcodec2 --enable-libdav1d --enable-libflite --enable-libfontconfig --enable-libfreetype --enable-libfribidi --enable-libgme --enable-libgsm --enable-libjack --enable-libmp3lame --enable-libmysofa --enable-libopenjpeg --enable-libopenmpt --enable-libopus --enable-libpulse --enable-librabbitmq --enable-librubberband --enable-libshine --enable-libsnappy --enable-libsoxr --enable-libspeex --enable-libsrt --enable-libssh --enable-libtheora --enable-libtwolame --enable-libvidstab --enable-libvorbis --enable-libvpx --enable-libwebp --enable-libx265 --enable-libxml2 --enable-libxvid --enable-libzimg --enable-libzmq --enable-libzvbi --enable-lv2 --enable-omx --enable-openal --enable-opencl --enable-opengl --enable-sdl2 --enable-pocketsphinx --enable-librsvg --enable-libmfx --enable-libdc1394 --enable-libdrm --enable-libiec61883 --enable-chromaprint --enable-frei0r --enable-libx264 --enable-shared\n",
            "  libavutil      56. 70.100 / 56. 70.100\n",
            "  libavcodec     58.134.100 / 58.134.100\n",
            "  libavformat    58. 76.100 / 58. 76.100\n",
            "  libavdevice    58. 13.100 / 58. 13.100\n",
            "  libavfilter     7.110.100 /  7.110.100\n",
            "  libswscale      5.  9.100 /  5.  9.100\n",
            "  libswresample   3.  9.100 /  3.  9.100\n",
            "  libpostproc    55.  9.100 / 55.  9.100\n",
            "Input #0, mpeg, from 'concat:/content/drive/My Drive/3/A.VOB|/content/drive/My Drive/3/B.VOB':\n",
            "  Duration: 00:00:22.16, start: 0.235211, bitrate: 769098 kb/s\n",
            "  Stream #0:0[0x1bf]: Data: dvd_nav_packet\n",
            "  Stream #0:1[0x1e0]: Video: mpeg2video (Main), yuv420p(tv, bt470bg, top first), 720x576 [SAR 16:15 DAR 4:3], 25 fps, 25 tbr, 90k tbn, 50 tbc\n",
            "    Side data:\n",
            "      cpb: bitrate max/min/avg: 9400000/0/0 buffer size: 1835008 vbv_delay: N/A\n",
            "  Stream #0:2[0x80]: Audio: ac3, 48000 Hz, stereo, fltp, 256 kb/s\n",
            "Stream mapping:\n",
            "  Stream #0:1 -> #0:0 (mpeg2video (native) -> h264 (libx264))\n",
            "  Stream #0:2 -> #0:1 (ac3 (native) -> aac (native))\n",
            "Press [q] to stop, [?] for help\n",
            "\u001b[1;36m[libx264 @ 0x59701d008700] \u001b[0musing SAR=16/15\n",
            "\u001b[1;36m[libx264 @ 0x59701d008700] \u001b[0musing cpu capabilities: MMX2 SSE2Fast SSSE3 SSE4.2 AVX FMA3 BMI2 AVX2\n",
            "\u001b[1;36m[libx264 @ 0x59701d008700] \u001b[0mprofile High, level 3.0, 4:2:0, 8-bit\n",
            "\u001b[1;36m[libx264 @ 0x59701d008700] \u001b[0m264 - core 163 r3060 5db6aa6 - H.264/MPEG-4 AVC codec - Copyleft 2003-2021 - http://www.videolan.org/x264.html - options: cabac=1 ref=3 deblock=1:0:0 analyse=0x3:0x113 me=hex subme=7 psy=1 psy_rd=1.00:0.00 mixed_ref=1 me_range=16 chroma_me=1 trellis=1 8x8dct=1 cqm=0 deadzone=21,11 fast_pskip=1 chroma_qp_offset=-2 threads=3 lookahead_threads=1 sliced_threads=0 nr=0 decimate=1 interlaced=0 bluray_compat=0 constrained_intra=0 bframes=3 b_pyramid=2 b_adapt=1 b_bias=0 direct=1 weightb=1 open_gop=0 weightp=2 keyint=250 keyint_min=25 scenecut=40 intra_refresh=0 rc_lookahead=40 rc=crf mbtree=1 crf=23.0 qcomp=0.60 qpmin=0 qpmax=69 qpstep=4 ip_ratio=1.40 aq=1:1.00\n",
            "Output #0, mp4, to '/content/drive/My Drive/output5.mp4':\n",
            "  Metadata:\n",
            "    encoder         : Lavf58.76.100\n",
            "  Stream #0:0: Video: h264 (avc1 / 0x31637661), yuv420p(tv, bt470bg, top coded first (swapped)), 720x576 [SAR 16:15 DAR 4:3], q=2-31, 25 fps, 12800 tbn\n",
            "    Metadata:\n",
            "      encoder         : Lavc58.134.100 libx264\n",
            "    Side data:\n",
            "      cpb: bitrate max/min/avg: 0/0/0 buffer size: 0 vbv_delay: N/A\n",
            "  Stream #0:1: Audio: aac (LC) (mp4a / 0x6134706D), 48000 Hz, stereo, fltp, 128 kb/s\n",
            "    Metadata:\n",
            "      encoder         : Lavc58.134.100 aac\n"
          ]
        }
      ],
      "source": [
        "from google.colab import drive\n",
        "drive.mount('/content/drive')\n",
        "\n",
        "# Replace A.vob, B.vob with your actual file names\n",
        "input_files = \"/content/drive/My Drive/3/A.VOB|/content/drive/My Drive/3/B.VOB\"\n",
        "output_file = \"/content/drive/My Drive/output5.mp4\"\n",
        "\n",
        "# Run FFmpeg command\n",
        "!ffmpeg -i \"concat:{input_files}\" -c:v libx264 -c:a aac -strict experimental \"{output_file}\"\n",
        "\n"
      ]
    },
    {
      "cell_type": "code",
      "execution_count": null,
      "metadata": {
        "colab": {
          "base_uri": "https://localhost:8080/"
        },
        "id": "Y0v5878WnYG6",
        "outputId": "d033c77b-c153-4458-f162-c20f85e56401"
      },
      "outputs": [
        {
          "name": "stdout",
          "output_type": "stream",
          "text": [
            "Drive already mounted at /content/drive; to attempt to forcibly remount, call drive.mount(\"/content/drive\", force_remount=True).\n",
            "Reading package lists... Done\n",
            "Building dependency tree... Done\n",
            "Reading state information... Done\n",
            "ffmpeg is already the newest version (7:4.4.2-0ubuntu0.22.04.1).\n",
            "0 upgraded, 0 newly installed, 0 to remove and 10 not upgraded.\n",
            "ffmpeg version 4.4.2-0ubuntu0.22.04.1 Copyright (c) 2000-2021 the FFmpeg developers\n",
            "  built with gcc 11 (Ubuntu 11.2.0-19ubuntu1)\n",
            "  configuration: --prefix=/usr --extra-version=0ubuntu0.22.04.1 --toolchain=hardened --libdir=/usr/lib/x86_64-linux-gnu --incdir=/usr/include/x86_64-linux-gnu --arch=amd64 --enable-gpl --disable-stripping --enable-gnutls --enable-ladspa --enable-libaom --enable-libass --enable-libbluray --enable-libbs2b --enable-libcaca --enable-libcdio --enable-libcodec2 --enable-libdav1d --enable-libflite --enable-libfontconfig --enable-libfreetype --enable-libfribidi --enable-libgme --enable-libgsm --enable-libjack --enable-libmp3lame --enable-libmysofa --enable-libopenjpeg --enable-libopenmpt --enable-libopus --enable-libpulse --enable-librabbitmq --enable-librubberband --enable-libshine --enable-libsnappy --enable-libsoxr --enable-libspeex --enable-libsrt --enable-libssh --enable-libtheora --enable-libtwolame --enable-libvidstab --enable-libvorbis --enable-libvpx --enable-libwebp --enable-libx265 --enable-libxml2 --enable-libxvid --enable-libzimg --enable-libzmq --enable-libzvbi --enable-lv2 --enable-omx --enable-openal --enable-opencl --enable-opengl --enable-sdl2 --enable-pocketsphinx --enable-librsvg --enable-libmfx --enable-libdc1394 --enable-libdrm --enable-libiec61883 --enable-chromaprint --enable-frei0r --enable-libx264 --enable-shared\n",
            "  libavutil      56. 70.100 / 56. 70.100\n",
            "  libavcodec     58.134.100 / 58.134.100\n",
            "  libavformat    58. 76.100 / 58. 76.100\n",
            "  libavdevice    58. 13.100 / 58. 13.100\n",
            "  libavfilter     7.110.100 /  7.110.100\n",
            "  libswscale      5.  9.100 /  5.  9.100\n",
            "  libswresample   3.  9.100 /  3.  9.100\n",
            "  libpostproc    55.  9.100 / 55.  9.100\n",
            "Input #0, mpeg, from '/content/drive/My Drive/3/A.VOB':\n",
            "  Duration: 00:00:39.60, start: 0.235211, bitrate: 215205 kb/s\n",
            "  Stream #0:0[0x1bf]: Data: dvd_nav_packet\n",
            "  Stream #0:1[0x1e0]: Video: mpeg2video (Main), yuv420p(tv, bt470bg, top first), 720x576 [SAR 16:15 DAR 4:3], 25 fps, 25 tbr, 90k tbn, 50 tbc\n",
            "    Side data:\n",
            "      cpb: bitrate max/min/avg: 9400000/0/0 buffer size: 1835008 vbv_delay: N/A\n",
            "  Stream #0:2[0x80]: Audio: ac3, 48000 Hz, stereo, fltp, 256 kb/s\n",
            "\u001b[0;36m[mpeg2video @ 0x5b13ce368d80] \u001b[0m\u001b[1;31mInvalid frame dimensions 0x0.\n",
            "    Last message repeated 10 times\n",
            "\u001b[0;35m[mpeg @ 0x5b13ce3681c0] \u001b[0m\u001b[0;33mstream 0 : no PTS found at end of file, duration not set\n",
            "\u001b[0m\u001b[0;35m[mpeg @ 0x5b13ce3681c0] \u001b[0m\u001b[0;33mstream 1 : no PTS found at end of file, duration not set\n",
            "\u001b[0mInput #1, mpeg, from '/content/drive/My Drive/3/B.VOB':\n",
            "  Duration: N/A, start: 39.478367, bitrate: N/A\n",
            "  Stream #1:0[0x1e0]: Video: mpeg2video (Main), yuv420p(tv, bt470bg, top first), 720x576 [SAR 16:15 DAR 4:3], 25 fps, 25 tbr, 90k tbn, 50 tbc\n",
            "    Side data:\n",
            "      cpb: bitrate max/min/avg: 9400000/0/0 buffer size: 1835008 vbv_delay: N/A\n",
            "  Stream #1:1[0x80]: Audio: ac3, 48000 Hz, stereo, fltp, 256 kb/s\n",
            "  Stream #1:2[0x1bf]: Data: dvd_nav_packet\n",
            "\u001b[0;36m[mpeg2video @ 0x5b13ce463f00] \u001b[0m\u001b[1;31mInvalid frame dimensions 0x0.\n",
            "    Last message repeated 4 times\n",
            "Input #2, mpeg, from '/content/drive/My Drive/3/C.VOB':\n",
            "  Duration: 00:00:04.01, start: 21.910367, bitrate: 2126459 kb/s\n",
            "  Stream #2:0[0x1e0]: Video: mpeg2video (Main), yuv420p(tv, bt470bg, top first), 720x576 [SAR 16:15 DAR 4:3], 25 fps, 25 tbr, 90k tbn, 50 tbc\n",
            "    Side data:\n",
            "      cpb: bitrate max/min/avg: 9400000/0/0 buffer size: 1835008 vbv_delay: N/A\n",
            "  Stream #2:1[0x80]: Audio: ac3, 48000 Hz, stereo, fltp, 256 kb/s\n",
            "  Stream #2:2[0x1bf]: Data: dvd_nav_packet\n",
            "\u001b[0;36m[mpeg2video @ 0x5b13ce44f9c0] \u001b[0m\u001b[1;31mInvalid frame dimensions 0x0.\n",
            "    Last message repeated 10 times\n",
            "Input #3, mpeg, from '/content/drive/My Drive/3/D.VOB':\n",
            "  Duration: 00:00:33.44, start: 25.558356, bitrate: 30840 kb/s\n",
            "  Stream #3:0[0x1e0]: Video: mpeg2video (Main), yuv420p(tv, bt470bg, top first), 720x576 [SAR 16:15 DAR 4:3], 25 fps, 25 tbr, 90k tbn, 50 tbc\n",
            "    Side data:\n",
            "      cpb: bitrate max/min/avg: 9400000/0/0 buffer size: 1835008 vbv_delay: N/A\n",
            "  Stream #3:1[0x80]: Audio: ac3, 48000 Hz, stereo, fltp, 256 kb/s\n",
            "  Stream #3:2[0x1bf]: Data: dvd_nav_packet\n",
            "Stream mapping:\n",
            "  Stream #0:1 (mpeg2video) -> concat:in0:v0\n",
            "  Stream #0:2 (ac3) -> concat:in0:a0\n",
            "  Stream #1:0 (mpeg2video) -> concat:in1:v0\n",
            "  Stream #1:1 (ac3) -> concat:in1:a0\n",
            "  Stream #2:0 (mpeg2video) -> concat:in2:v0\n",
            "  Stream #2:1 (ac3) -> concat:in2:a0\n",
            "  Stream #3:0 (mpeg2video) -> concat:in3:v0\n",
            "  Stream #3:1 (ac3) -> concat:in3:a0\n",
            "  concat:out:v0 -> Stream #0:0 (libx264)\n",
            "  concat:out:a0 -> Stream #0:1 (aac)\n",
            "Press [q] to stop, [?] for help\n",
            "\u001b[1;31mError while decoding stream #2:1: Invalid data found when processing input\n",
            "\u001b[0m\u001b[1;36m[libx264 @ 0x5b13ce462b40] \u001b[0musing SAR=16/15\n",
            "\u001b[1;36m[libx264 @ 0x5b13ce462b40] \u001b[0musing cpu capabilities: MMX2 SSE2Fast SSSE3 SSE4.2 AVX FMA3 BMI2 AVX2\n",
            "\u001b[1;36m[libx264 @ 0x5b13ce462b40] \u001b[0mprofile High, level 3.0, 4:2:0, 8-bit\n",
            "\u001b[1;36m[libx264 @ 0x5b13ce462b40] \u001b[0m264 - core 163 r3060 5db6aa6 - H.264/MPEG-4 AVC codec - Copyleft 2003-2021 - http://www.videolan.org/x264.html - options: cabac=1 ref=3 deblock=1:0:0 analyse=0x3:0x113 me=hex subme=7 psy=1 psy_rd=1.00:0.00 mixed_ref=1 me_range=16 chroma_me=1 trellis=1 8x8dct=1 cqm=0 deadzone=21,11 fast_pskip=1 chroma_qp_offset=-2 threads=3 lookahead_threads=1 sliced_threads=0 nr=0 decimate=1 interlaced=0 bluray_compat=0 constrained_intra=0 bframes=3 b_pyramid=2 b_adapt=1 b_bias=0 direct=1 weightb=1 open_gop=0 weightp=2 keyint=250 keyint_min=25 scenecut=40 intra_refresh=0 rc_lookahead=40 rc=crf mbtree=1 crf=23.0 qcomp=0.60 qpmin=0 qpmax=69 qpstep=4 ip_ratio=1.40 aq=1:1.00\n",
            "Output #0, mp4, to '/content/drive/My Drive/outputTest9.mp4':\n",
            "  Metadata:\n",
            "    encoder         : Lavf58.76.100\n",
            "  Stream #0:0: Video: h264 (avc1 / 0x31637661), yuv420p(tv, bt470bg, top coded first (swapped)), 720x576 [SAR 16:15 DAR 4:3], q=2-31, 25 fps, 12800 tbn (default)\n",
            "    Metadata:\n",
            "      encoder         : Lavc58.134.100 libx264\n",
            "    Side data:\n",
            "      cpb: bitrate max/min/avg: 0/0/0 buffer size: 0 vbv_delay: N/A\n",
            "  Stream #0:1: Audio: aac (LC) (mp4a / 0x6134706D), 48000 Hz, stereo, fltp, 128 kb/s (default)\n",
            "    Metadata:\n",
            "      encoder         : Lavc58.134.100 aac\n",
            "\u001b[1;31moverread 11\n",
            "\u001b[0m\u001b[0;36m[mpeg2video @ 0x5b13ce397b80] \u001b[0m\u001b[1;31mWarning MVs not available\n",
            "\u001b[0m\u001b[0;36m[mpeg2video @ 0x5b13ce397b80] \u001b[0mconcealing 360 DC, 360 AC, 360 MV errors in B frame\n",
            "\u001b[0;33m/content/drive/My Drive/3/A.VOB: corrupt decoded frame in stream 1\n",
            "\u001b[0m\u001b[0;36m[ac3 @ 0x5b13ce36dc80] \u001b[0m\u001b[1;31mincomplete frame\n",
            "\u001b[0m\u001b[0;33m/content/drive/My Drive/3/A.VOB: corrupt decoded frame in stream 2\n",
            "\u001b[0m\u001b[1;31m/content/drive/My Drive/3/A.VOB: Transport endpoint is not connected\n",
            "\u001b[0m\u001b[1;31mav_interleaved_write_frame(): Transport endpoint is not connected\n",
            "\u001b[0m\u001b[1;31mError writing trailer of /content/drive/My Drive/outputTest9.mp4: Transport endpoint is not connected\n",
            "\u001b[0mframe=26724 fps= 15 q=28.0 Lsize=  408832kB time=00:17:48.52 bitrate=3134.4kbits/s dup=1 drop=0 speed=0.612x    \n",
            "video:392371kB audio:16749kB subtitle:0kB other streams:0kB global headers:0kB muxing overhead: unknown\n",
            "\u001b[1;36m[libx264 @ 0x5b13ce462b40] \u001b[0mframe I:341   Avg QP:24.91  size: 47618\n",
            "\u001b[1;36m[libx264 @ 0x5b13ce462b40] \u001b[0mframe P:8331  Avg QP:26.09  size: 21588\n",
            "\u001b[1;36m[libx264 @ 0x5b13ce462b40] \u001b[0mframe B:18052 Avg QP:27.52  size: 11435\n",
            "\u001b[1;36m[libx264 @ 0x5b13ce462b40] \u001b[0mconsecutive B-frames:  8.4%  2.2%  7.5% 81.9%\n",
            "\u001b[1;36m[libx264 @ 0x5b13ce462b40] \u001b[0mmb I  I16..4:  8.9% 78.5% 12.6%\n",
            "\u001b[1;36m[libx264 @ 0x5b13ce462b40] \u001b[0mmb P  I16..4:  4.7% 29.3%  3.5%  P16..4: 38.6% 14.0%  6.4%  0.0%  0.0%    skip: 3.4%\n",
            "\u001b[1;36m[libx264 @ 0x5b13ce462b40] \u001b[0mmb B  I16..4:  1.0%  5.3%  0.5%  B16..8: 49.6% 11.7%  2.7%  direct:12.4%  skip:16.7%  L0:49.5% L1:35.0% BI:15.5%\n",
            "\u001b[1;36m[libx264 @ 0x5b13ce462b40] \u001b[0m8x8 transform intra:78.0% inter:85.6%\n",
            "\u001b[1;36m[libx264 @ 0x5b13ce462b40] \u001b[0mcoded y,uvDC,uvAC intra: 75.7% 87.4% 34.9% inter: 36.7% 49.3% 6.3%\n",
            "\u001b[1;36m[libx264 @ 0x5b13ce462b40] \u001b[0mi16 v,h,dc,p: 20% 50% 14% 16%\n",
            "\u001b[1;36m[libx264 @ 0x5b13ce462b40] \u001b[0mi8 v,h,dc,ddl,ddr,vr,hd,vl,hu: 20% 32% 28%  3%  2%  3%  3%  3%  6%\n",
            "\u001b[1;36m[libx264 @ 0x5b13ce462b40] \u001b[0mi4 v,h,dc,ddl,ddr,vr,hd,vl,hu:  8% 71%  9%  1%  1%  1%  3%  1%  4%\n",
            "\u001b[1;36m[libx264 @ 0x5b13ce462b40] \u001b[0mi8c dc,h,v,p: 46% 26% 21%  7%\n",
            "\u001b[1;36m[libx264 @ 0x5b13ce462b40] \u001b[0mWeighted P-Frames: Y:6.9% UV:3.5%\n",
            "\u001b[1;36m[libx264 @ 0x5b13ce462b40] \u001b[0mref P L0: 56.7% 13.2% 20.2%  9.3%  0.6%\n",
            "\u001b[1;36m[libx264 @ 0x5b13ce462b40] \u001b[0mref B L0: 86.3% 11.2%  2.5%\n",
            "\u001b[1;36m[libx264 @ 0x5b13ce462b40] \u001b[0mref B L1: 94.4%  5.6%\n",
            "\u001b[1;36m[libx264 @ 0x5b13ce462b40] \u001b[0mkb/s:3012.37\n",
            "\u001b[1;36m[aac @ 0x5b13ce5d1940] \u001b[0mQavg: 119.242\n",
            "Conversion failed!\n"
          ]
        }
      ],
      "source": [
        "from google.colab import drive\n",
        "drive.mount('/content/drive')\n",
        "\n",
        "\n",
        "!apt-get install ffmpeg\n",
        "\n",
        "import os\n",
        "import subprocess\n",
        "\n",
        "\n",
        "\n",
        "# Directory containing the VOB files\n",
        "directory = '/content/drive/My Drive/3'  # Update this with your directory path\n",
        "\n",
        "# Get a sorted list of VOB files\n",
        "vob_files = sorted([f for f in os.listdir(directory) if f.endswith('.VOB')])\n",
        "\n",
        "# Create a string of input files for FFmpeg\n",
        "input_files = ' '.join([f\"-i '{os.path.join(directory, f)}'\" for f in vob_files])\n",
        "\n",
        "# Output file path\n",
        "output_file = '/content/drive/My Drive/outputTest9.mp4'  # Update this with your desired output path\n",
        "\n",
        "# Construct and run FFmpeg command\n",
        "!ffmpeg {input_files} -filter_complex 'concat=n={len(vob_files)}:v=1:a=1 [v] [a]' -map '[v]' -map '[a]' \"{output_file}\"\n",
        "\n",
        "#print(f\"VOB files have been merged into {output_file}\")\n"
      ]
    },
    {
      "cell_type": "code",
      "execution_count": null,
      "metadata": {
        "colab": {
          "base_uri": "https://localhost:8080/"
        },
        "id": "IDm3HVPFRYdX",
        "outputId": "345e4e71-5ed3-4988-b949-80654db310b6"
      },
      "outputs": [
        {
          "name": "stdout",
          "output_type": "stream",
          "text": [
            "Mounted at /content/drive\n",
            "Reading package lists... Done\n",
            "Building dependency tree... Done\n",
            "Reading state information... Done\n",
            "ffmpeg is already the newest version (7:4.4.2-0ubuntu0.22.04.1).\n",
            "0 upgraded, 0 newly installed, 0 to remove and 19 not upgraded.\n"
          ]
        },
        {
          "data": {
            "text/plain": [
              "0"
            ]
          },
          "execution_count": 1,
          "metadata": {},
          "output_type": "execute_result"
        }
      ],
      "source": [
        "from google.colab import drive\n",
        "\n",
        "# Mount Google Drive\n",
        "drive.mount('/content/drive')\n",
        "\n",
        "!apt-get install ffmpeg\n",
        "\n",
        "import os\n",
        "\n",
        "# Input directory containing mpg files\n",
        "input_folder = \"/content/drive/My Drive/4\"\n",
        "\n",
        "# Output file path for the joined mp4 file\n",
        "output_file = \"/content/drive/My Drive/AusPakAdelaide96.mp4\"\n",
        "\n",
        "# Change directory to the input folder\n",
        "os.chdir(input_folder)\n",
        "\n",
        "# List MPG files in the directory and sort them numerically\n",
        "mpg_files = sorted([f for f in os.listdir() if f.endswith(\".mpg\")], key=lambda x: int(x.split('.')[0]))\n",
        "\n",
        "# Create a list of input files for ffmpeg\n",
        "input_files = \"|\".join(mpg_files)\n",
        "\n",
        "# Use ffmpeg to concatenate the mpg files into a single mp4 file with progress monitoring\n",
        "cmd = f'ffmpeg -i \"concat:{input_files}\" -c:v copy -c:a aac -strict experimental \"{output_file}\" -progress -'\n",
        "os.system(cmd)\n"
      ]
    },
    {
      "cell_type": "markdown",
      "metadata": {
        "id": "XxY6Hfn9HMuv"
      },
      "source": [
        "**This Section Megres all mp4 files into a single mp4 file.**"
      ]
    },
    {
      "cell_type": "code",
      "execution_count": 3,
      "metadata": {
        "colab": {
          "base_uri": "https://localhost:8080/"
        },
        "id": "ROdXycSGypb3",
        "outputId": "15d6a55d-47e7-4cde-afc6-b48131e89c24"
      },
      "outputs": [
        {
          "output_type": "stream",
          "name": "stdout",
          "text": [
            "Drive already mounted at /content/drive; to attempt to forcibly remount, call drive.mount(\"/content/drive\", force_remount=True).\n",
            "Reading package lists... Done\n",
            "Building dependency tree... Done\n",
            "Reading state information... Done\n",
            "ffmpeg is already the newest version (7:4.4.2-0ubuntu0.22.04.1).\n",
            "0 upgraded, 0 newly installed, 0 to remove and 10 not upgraded.\n",
            "ffmpeg version 4.4.2-0ubuntu0.22.04.1 Copyright (c) 2000-2021 the FFmpeg developers\n",
            "  built with gcc 11 (Ubuntu 11.2.0-19ubuntu1)\n",
            "  configuration: --prefix=/usr --extra-version=0ubuntu0.22.04.1 --toolchain=hardened --libdir=/usr/lib/x86_64-linux-gnu --incdir=/usr/include/x86_64-linux-gnu --arch=amd64 --enable-gpl --disable-stripping --enable-gnutls --enable-ladspa --enable-libaom --enable-libass --enable-libbluray --enable-libbs2b --enable-libcaca --enable-libcdio --enable-libcodec2 --enable-libdav1d --enable-libflite --enable-libfontconfig --enable-libfreetype --enable-libfribidi --enable-libgme --enable-libgsm --enable-libjack --enable-libmp3lame --enable-libmysofa --enable-libopenjpeg --enable-libopenmpt --enable-libopus --enable-libpulse --enable-librabbitmq --enable-librubberband --enable-libshine --enable-libsnappy --enable-libsoxr --enable-libspeex --enable-libsrt --enable-libssh --enable-libtheora --enable-libtwolame --enable-libvidstab --enable-libvorbis --enable-libvpx --enable-libwebp --enable-libx265 --enable-libxml2 --enable-libxvid --enable-libzimg --enable-libzmq --enable-libzvbi --enable-lv2 --enable-omx --enable-openal --enable-opencl --enable-opengl --enable-sdl2 --enable-pocketsphinx --enable-librsvg --enable-libmfx --enable-libdc1394 --enable-libdrm --enable-libiec61883 --enable-chromaprint --enable-frei0r --enable-libx264 --enable-shared\n",
            "  libavutil      56. 70.100 / 56. 70.100\n",
            "  libavcodec     58.134.100 / 58.134.100\n",
            "  libavformat    58. 76.100 / 58. 76.100\n",
            "  libavdevice    58. 13.100 / 58. 13.100\n",
            "  libavfilter     7.110.100 /  7.110.100\n",
            "  libswscale      5.  9.100 /  5.  9.100\n",
            "  libswresample   3.  9.100 /  3.  9.100\n",
            "  libpostproc    55.  9.100 / 55.  9.100\n",
            "\u001b[0;35m[mov,mp4,m4a,3gp,3g2,mj2 @ 0x58f1b3ad15c0] \u001b[0m\u001b[0;33mstream 0, timescale not set\n",
            "\u001b[0m\u001b[0;35m[mov,mp4,m4a,3gp,3g2,mj2 @ 0x58f1b3ad15c0] \u001b[0mAuto-inserting h264_mp4toannexb bitstream filter\n",
            "Input #0, concat, from '/dev/fd/63':\n",
            "  Duration: N/A, start: 0.000000, bitrate: 2450 kb/s\n",
            "  Stream #0:0(eng): Video: h264 (High) (avc1 / 0x31637661), yuv420p(tv, bt470bg), 720x576 [SAR 9216:6480 DAR 16:9], 2229 kb/s, 24.74 fps, 25 tbr, 25k tbn, 50 tbc\n",
            "    Metadata:\n",
            "      creation_time   : 2023-11-01T21:36:44.000000Z\n",
            "      handler_name    : VideoHandler\n",
            "      vendor_id       : [0][0][0][0]\n",
            "      encoder         : H.264/AVC\n",
            "  Stream #0:1(eng): Audio: aac (LC) (mp4a / 0x6134706D), 48000 Hz, stereo, fltp, 220 kb/s\n",
            "    Metadata:\n",
            "      creation_time   : 2023-11-01T21:36:44.000000Z\n",
            "      handler_name    : SoundHandler\n",
            "      vendor_id       : [0][0][0][0]\n",
            "  Stream #0:2: Video: png, rgba(pc), 512x748 [SAR 3779:3779 DAR 128:187], 90k tbr, 90k tbn, 90k tbc\n",
            "Output #0, mp4, to '/content/drive/My Drive/AsiaCup2000.mp4':\n",
            "  Metadata:\n",
            "    encoder         : Lavf58.76.100\n",
            "  Stream #0:0(eng): Video: h264 (High) (avc1 / 0x31637661), yuv420p(tv, bt470bg), 720x576 [SAR 64:45 DAR 16:9], q=2-31, 2229 kb/s, 24.74 fps, 25 tbr, 25k tbn, 25k tbc\n",
            "    Metadata:\n",
            "      creation_time   : 2023-11-01T21:36:44.000000Z\n",
            "      handler_name    : VideoHandler\n",
            "      vendor_id       : [0][0][0][0]\n",
            "      encoder         : H.264/AVC\n",
            "  Stream #0:1(eng): Audio: aac (LC) (mp4a / 0x6134706D), 48000 Hz, stereo, fltp, 220 kb/s\n",
            "    Metadata:\n",
            "      creation_time   : 2023-11-01T21:36:44.000000Z\n",
            "      handler_name    : SoundHandler\n",
            "      vendor_id       : [0][0][0][0]\n",
            "Stream mapping:\n",
            "  Stream #0:0 -> #0:0 (copy)\n",
            "  Stream #0:1 -> #0:1 (copy)\n",
            "Press [q] to stop, [?] for help\n",
            "\u001b[1;35m[mp4 @ 0x58f1b3b05f00] \u001b[0m\u001b[0;33mNon-monotonous DTS in output stream 0:1; previous: 9984, current: 9982; \u001b[0m\u001b[0;33mchanging to 9985. This may result in incorrect timestamps in the output file.\n",
            "\u001b[0m\u001b[1;35m[mp4 @ 0x58f1b3b05f00] \u001b[0m\u001b[0;33mNon-monotonous DTS in output stream 0:1; previous: 9985, current: 9982; \u001b[0m\u001b[0;33mchanging to 9986. This may result in incorrect timestamps in the output file.\n",
            "\u001b[0m\u001b[1;35m[mp4 @ 0x58f1b3b05f00] \u001b[0m\u001b[0;33mNon-monotonous DTS in output stream 0:1; previous: 9986, current: 9982; \u001b[0m\u001b[0;33mchanging to 9987. This may result in incorrect timestamps in the output file.\n",
            "\u001b[0m\u001b[1;35m[mp4 @ 0x58f1b3b05f00] \u001b[0m\u001b[0;33mNon-monotonous DTS in output stream 0:1; previous: 9987, current: 9982; \u001b[0m\u001b[0;33mchanging to 9988. This may result in incorrect timestamps in the output file.\n",
            "\u001b[0m\u001b[1;35m[mp4 @ 0x58f1b3b05f00] \u001b[0m\u001b[0;33mNon-monotonous DTS in output stream 0:1; previous: 9988, current: 9982; \u001b[0m\u001b[0;33mchanging to 9989. This may result in incorrect timestamps in the output file.\n",
            "\u001b[0;35m[mov,mp4,m4a,3gp,3g2,mj2 @ 0x58f1b3ad15c0] \u001b[0m\u001b[0;33mstream 0, timescale not set\n",
            "\u001b[0m\u001b[0;35m[mov,mp4,m4a,3gp,3g2,mj2 @ 0x58f1b3ad15c0] \u001b[0mAuto-inserting h264_mp4toannexb bitstream filter\n",
            "\u001b[0;35m[mov,mp4,m4a,3gp,3g2,mj2 @ 0x58f1b3ad15c0] \u001b[0m\u001b[0;33mstream 0, timescale not set\n",
            "\u001b[0m\u001b[0;35m[mov,mp4,m4a,3gp,3g2,mj2 @ 0x58f1b3ad15c0] \u001b[0mAuto-inserting h264_mp4toannexb bitstream filter\n",
            "\u001b[0;35m[mov,mp4,m4a,3gp,3g2,mj2 @ 0x58f1b3ad15c0] \u001b[0m\u001b[0;33mstream 0, timescale not set\n",
            "\u001b[0m\u001b[0;35m[mov,mp4,m4a,3gp,3g2,mj2 @ 0x58f1b3ad15c0] \u001b[0mAuto-inserting h264_mp4toannexb bitstream filter\n",
            "frame=150164 fps=4513 q=-1.0 Lsize= 1823257kB time=01:42:08.23 bitrate=2437.3kbits/s speed= 184x    \n",
            "video:1653711kB audio:165058kB subtitle:0kB other streams:0kB global headers:0kB muxing overhead: 0.246774%\n"
          ]
        }
      ],
      "source": [
        "\n",
        "from google.colab import drive\n",
        "\n",
        "# Mount Google Drive\n",
        "drive.mount('/content/drive')\n",
        "\n",
        "!apt-get install ffmpeg\n",
        "import os\n",
        "\n",
        "# Set the path to your input directory containing MP4 files\n",
        "input_dir = \"/content/drive/My Drive/5\"\n",
        "\n",
        "# Set the path for the output concatenated MP4 file\n",
        "output_file = '/content/drive/My Drive/AsiaCup2000.mp4'\n",
        "\n",
        "# Change the working directory to the input directory\n",
        "os.chdir(input_dir)\n",
        "\n",
        "# Use ffmpeg to concatenate the MP4 files in the directory\n",
        "# The input file pattern should match the files you want to concatenate (e.g., '*.mp4')\n",
        "# The output file should be specified with -y to overwrite if it already exists\n",
        "!ffmpeg -f concat -safe 0 -i <(for f in $(ls *.mp4); do echo \"file '$PWD/$f'\"; done) -c copy -y \"$output_file\"\n"
      ]
    },
    {
      "cell_type": "markdown",
      "source": [
        "**This Section Trims a Part of MP4 File**"
      ],
      "metadata": {
        "id": "e4xY34nuLLfL"
      }
    },
    {
      "cell_type": "code",
      "source": [
        "from google.colab import drive\n",
        "\n",
        "# Mount Google Drive\n",
        "drive.mount('/content/drive')\n",
        "\n",
        "!apt-get install ffmpeg\n",
        "\n",
        "import os\n",
        "\n",
        "\n",
        "!ffmpeg -i \"/content/drive/My Drive/Pakistan India 1984 Quetta ODI.mp4\" -ss 00:00:00 -t 00:03:26 -c:v copy -c:a copy \"/content/drive/My Drive/IndiainPak1984.mp4\"\n"
      ],
      "metadata": {
        "id": "WTsILt_0LQgE"
      },
      "execution_count": null,
      "outputs": []
    }
  ],
  "metadata": {
    "colab": {
      "provenance": [],
      "authorship_tag": "ABX9TyMLW2VnsP0GDksq6qp6EBAt",
      "include_colab_link": true
    },
    "kernelspec": {
      "display_name": "Python 3",
      "name": "python3"
    },
    "language_info": {
      "name": "python"
    }
  },
  "nbformat": 4,
  "nbformat_minor": 0
}