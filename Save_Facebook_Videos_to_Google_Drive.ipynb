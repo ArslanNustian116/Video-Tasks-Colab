{
  "nbformat": 4,
  "nbformat_minor": 0,
  "metadata": {
    "colab": {
      "provenance": [],
      "authorship_tag": "ABX9TyMYUGXk/SkcrEi1OzDlZ3qe",
      "include_colab_link": true
    },
    "kernelspec": {
      "name": "python3",
      "display_name": "Python 3"
    },
    "language_info": {
      "name": "python"
    }
  },
  "cells": [
    {
      "cell_type": "markdown",
      "metadata": {
        "id": "view-in-github",
        "colab_type": "text"
      },
      "source": [
        "<a href=\"https://colab.research.google.com/github/ArslanNustian116/Video-Tasks-Colab/blob/main/Save_Facebook_Videos_to_Google_Drive.ipynb\" target=\"_parent\"><img src=\"https://colab.research.google.com/assets/colab-badge.svg\" alt=\"Open In Colab\"/></a>"
      ]
    },
    {
      "cell_type": "markdown",
      "source": [
        "# **Save a Single Link**"
      ],
      "metadata": {
        "id": "z_QxS5KU1eQT"
      }
    },
    {
      "cell_type": "code",
      "execution_count": 5,
      "metadata": {
        "colab": {
          "base_uri": "https://localhost:8080/"
        },
        "id": "CFnAgO-tz8c3",
        "outputId": "cb7257d7-e209-4890-bfa3-8ef191544c78"
      },
      "outputs": [
        {
          "output_type": "stream",
          "name": "stdout",
          "text": [
            "Requirement already satisfied: yt-dlp in /usr/local/lib/python3.11/dist-packages (2025.3.31)\n",
            "Drive already mounted at /content/drive; to attempt to forcibly remount, call drive.mount(\"/content/drive\", force_remount=True).\n",
            "[facebook] Extracting URL: https://www.facebook.com/CalypsoCricket/videos/634942156035394/\n",
            "[facebook] 634942156035394: Downloading webpage\n",
            "[info] 634942156035394: Downloading 1 format(s): 2823118854541141v+996431772613575a\n",
            "[download] Destination: /content/drive/MyDrive/Facebook_Videos/39K views · 766 reactions ｜ Franklyn Rose to Mark Boucher 🔥😍 🌴🏏 ｜ By Caribbean Cricket： The Vintage Collection.f2823118854541141v.mp4\n",
            "\u001b[K[download] 100% of    1.91MiB in \u001b[1;37m00:00:00\u001b[0m at \u001b[0;32m12.61MiB/s\u001b[0m\n",
            "[download] Destination: /content/drive/MyDrive/Facebook_Videos/39K views · 766 reactions ｜ Franklyn Rose to Mark Boucher 🔥😍 🌴🏏 ｜ By Caribbean Cricket： The Vintage Collection.f996431772613575a.m4a\n",
            "\u001b[K[download] 100% of  353.27KiB in \u001b[1;37m00:00:00\u001b[0m at \u001b[0;32m2.37MiB/s\u001b[0m\n",
            "[Merger] Merging formats into \"/content/drive/MyDrive/Facebook_Videos/39K views · 766 reactions ｜ Franklyn Rose to Mark Boucher 🔥😍 🌴🏏 ｜ By Caribbean Cricket： The Vintage Collection.mp4\"\n",
            "Deleting original file /content/drive/MyDrive/Facebook_Videos/39K views · 766 reactions ｜ Franklyn Rose to Mark Boucher 🔥😍 🌴🏏 ｜ By Caribbean Cricket： The Vintage Collection.f996431772613575a.m4a (pass -k to keep)\n",
            "Deleting original file /content/drive/MyDrive/Facebook_Videos/39K views · 766 reactions ｜ Franklyn Rose to Mark Boucher 🔥😍 🌴🏏 ｜ By Caribbean Cricket： The Vintage Collection.f2823118854541141v.mp4 (pass -k to keep)\n"
          ]
        }
      ],
      "source": [
        "# Install yt-dlp\n",
        "!pip install -U yt-dlp\n",
        "\n",
        "# Mount Google Drive\n",
        "from google.colab import drive\n",
        "drive.mount('/content/drive')\n",
        "\n",
        "# 🔽 SET your Facebook video URL and Drive path\n",
        "fb_url = \"https://www.facebook.com/CalypsoCricket/videos/634942156035394/\"  # Replace with your video URL\n",
        "save_path = \"/content/drive/MyDrive/Facebook_Videos/\"        # Folder in your Google Drive\n",
        "\n",
        "# Create the folder if it doesn't exist\n",
        "import os\n",
        "os.makedirs(save_path, exist_ok=True)\n",
        "\n",
        "# Download the video using yt-dlp\n",
        "!yt-dlp -o '{save_path}%(title)s.%(ext)s' '{fb_url}'\n"
      ]
    },
    {
      "cell_type": "markdown",
      "source": [
        "# **Save Multiple Links**"
      ],
      "metadata": {
        "id": "8QUDFN9k1yuT"
      }
    },
    {
      "cell_type": "code",
      "source": [
        "# Install yt-dlp (latest)\n",
        "!pip install -U yt-dlp\n",
        "\n",
        "# Mount your Google Drive\n",
        "from google.colab import drive\n",
        "drive.mount('/content/drive')\n",
        "\n",
        "# Setup: Folder to save videos\n",
        "save_path = \"/content/drive/MyDrive/Facebook_Videos/\"\n",
        "import os\n",
        "os.makedirs(save_path, exist_ok=True)\n",
        "\n",
        "# 🔽 Add your Facebook video URLs here (can be public watch URLs or direct links)\n",
        "fb_urls = [\n",
        "    \"https://www.facebook.com/watch/?v=123456789012345\",\n",
        "    \"https://www.facebook.com/watch/?v=987654321098765\",\n",
        "    # Add more URLs here\n",
        "]\n",
        "\n",
        "# Download loop\n",
        "for url in fb_urls:\n",
        "    print(f\"Downloading: {url}\")\n",
        "    !yt-dlp -f \"bestvideo+bestaudio/best\" -o '{save_path}%(title)s.%(ext)s' \"{url}\"\n"
      ],
      "metadata": {
        "id": "OgA6MZR02FO5"
      },
      "execution_count": null,
      "outputs": []
    }
  ]
}